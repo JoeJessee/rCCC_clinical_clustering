{
 "cells": [
  {
   "cell_type": "markdown",
   "metadata": {
    "slideshow": {
     "slide_type": "slide"
    }
   },
   "source": [
    "# Kidney Tumor data set\n",
    "## Emily Isko and Joe Jessee\n",
    "### Biof509: Applied Machine Learning"
   ]
  },
  {
   "cell_type": "markdown",
   "metadata": {
    "slideshow": {
     "slide_type": "slide"
    }
   },
   "source": [
    "Data used in this project was downloaded from https://portal.gdc.cancer.gov/projects/TCGA-KIRC\n",
    "\n",
    "Project ID:\tTCGA-KIRC\n",
    "\n",
    "DbGaP Study Accession:\tphs000178\n",
    "\n",
    "Project Name:\tKidney Renal Clear Cell Carcinoma\n",
    "\n",
    "Disease Type:\tAdenomas and Adenocarcinomas\n",
    "\n",
    "Primary Site:\tKidney"
   ]
  },
  {
   "cell_type": "markdown",
   "metadata": {
    "slideshow": {
     "slide_type": "subslide"
    }
   },
   "source": [
    "\n",
    "There are **28** variables and **537** data entries/observations."
   ]
  },
  {
   "cell_type": "code",
   "execution_count": null,
   "metadata": {
    "slideshow": {
     "slide_type": "slide"
    }
   },
   "outputs": [],
   "source": [
    "import pandas as pd\n",
    "import numpy as np\n",
    "import matplotlib.pyplot as plt\n",
    "import seaborn as sb"
   ]
  },
  {
   "cell_type": "code",
   "execution_count": null,
   "metadata": {},
   "outputs": [],
   "source": [
    "# importing data\n",
    "data = pd.read_csv(\"clinical.tsv\", sep='\\t')\n",
    "\n",
    "print(data.info())\n",
    "sb.pairplot(data)"
   ]
  },
  {
   "cell_type": "markdown",
   "metadata": {
    "slideshow": {
     "slide_type": "slide"
    }
   },
   "source": [
    "## What to do with empty entries\n",
    "\n",
    "In this data set, empty entries were often denoted with **--** or **not reported**\n",
    "\n",
    "We changed this to NaN as appropriate."
   ]
  },
  {
   "cell_type": "code",
   "execution_count": null,
   "metadata": {
    "slideshow": {
     "slide_type": "subslide"
    }
   },
   "outputs": [],
   "source": [
    "# replace -- with Nan\n",
    "data = data.replace('--', np.nan)\n",
    "data = data.replace('not reported', np.nan)\n",
    "\n",
    "# keep not reported in categorical variable, ethnicity and race\n",
    "data['ethnicity'] = data['ethnicity'].replace(np.nan, 'not reported')\n",
    "data['race'] = data['race'].replace(np.nan, 'not reported')\n"
   ]
  },
  {
   "cell_type": "code",
   "execution_count": null,
   "metadata": {
    "slideshow": {
     "slide_type": "subslide"
    }
   },
   "outputs": [],
   "source": [
    "# looking at where the empty data are\n",
    "print(data.isna().sum())\n",
    "\n",
    "data.head()"
   ]
  },
  {
   "cell_type": "markdown",
   "metadata": {
    "slideshow": {
     "slide_type": "slide"
    }
   },
   "source": [
    "Note that some variables have no recorded data or 1 variable for all entries. We will delete these columns as they are irrelevant."
   ]
  },
  {
   "cell_type": "code",
   "execution_count": null,
   "metadata": {
    "slideshow": {
     "slide_type": "subslide"
    }
   },
   "outputs": [],
   "source": [
    "# Delete columns with only 1 \n",
    "\n",
    "delete_cols = ['case_id', 'project_id','classification_of_tumor',\n",
    "       'last_known_disease_status', 'morphology','days_to_last_known_disease_status', 'days_to_recurrence','tumor_grade', 'tissue_or_organ_of_origin', 'days_to_birth','progression_or_recurrence', 'prior_malignancy',\n",
    "       'site_of_resection_or_biopsy', 'therapeutic_agents', 'treatment_intent_type', 'treatment_or_therapy']\n",
    "\n",
    "data = data.drop(delete_cols, axis=1)\n",
    "\n",
    "\n",
    "\n",
    "data.shape"
   ]
  },
  {
   "cell_type": "markdown",
   "metadata": {
    "slideshow": {
     "slide_type": "subslide"
    }
   },
   "source": [
    "New data frame only has 13 variables."
   ]
  },
  {
   "cell_type": "markdown",
   "metadata": {
    "slideshow": {
     "slide_type": "slide"
    }
   },
   "source": [
    "## Modifying data types to encode meaningful information\n",
    "\n",
    "Certain variables are encoded as categorical data (i.e. string objects) when the variable actually contains numeric data."
   ]
  },
  {
   "cell_type": "markdown",
   "metadata": {
    "slideshow": {
     "slide_type": "slide"
    }
   },
   "source": [
    "### Tumor stage\n",
    "\n",
    "In this variable, tumor stage, the data for this variable is imported as a string object. Instead, we wanted the stages to be encoded as ranked integers. To do this, we replaced each stage with integers."
   ]
  },
  {
   "cell_type": "code",
   "execution_count": null,
   "metadata": {
    "slideshow": {
     "slide_type": "subslide"
    }
   },
   "outputs": [],
   "source": [
    "print(\"Before Replacement\")\n",
    "print(data.tumor_stage.head())\n",
    "\n",
    "data = data.replace('stage i', 1)\n",
    "data = data.replace('stage ii', 2)\n",
    "data = data.replace('stage iii', 3)\n",
    "data = data.replace('stage iv', 4)\n",
    "\n",
    "\n",
    "print('\\n')\n",
    "print(\"After Replacement:\")\n",
    "print(data.tumor_stage.head())\n"
   ]
  },
  {
   "cell_type": "markdown",
   "metadata": {
    "slideshow": {
     "slide_type": "slide"
    }
   },
   "source": [
    "## Encoding numerical data\n",
    "\n",
    "We identified which variables should be encoded as numeric variables (anything related to year, age, or days) and converted the data types to floats."
   ]
  },
  {
   "cell_type": "code",
   "execution_count": null,
   "metadata": {
    "slideshow": {
     "slide_type": "subslide"
    }
   },
   "outputs": [],
   "source": [
    "to_float = ['year_of_birth','year_of_death', 'tumor_stage','age_at_diagnosis', 'days_to_death', 'days_to_last_follow_up']\n",
    "\n",
    "for col in to_float:\n",
    "    data[col] = data[col].astype('float64')\n",
    "\n",
    "\n",
    "    \n",
    "# add new column age_at_death\n",
    "data['age_at_death'] = data['age_at_diagnosis'] + data['days_to_death']\n",
    "    \n",
    "    \n",
    "data.info()"
   ]
  },
  {
   "cell_type": "markdown",
   "metadata": {
    "slideshow": {
     "slide_type": "slide"
    }
   },
   "source": [
    "## Is there redundancy in the data?\n",
    "\n",
    "We represented the data in a correlation matrix to identify redundant variables that may be encoding the same information."
   ]
  },
  {
   "cell_type": "code",
   "execution_count": null,
   "metadata": {
    "slideshow": {
     "slide_type": "subslide"
    }
   },
   "outputs": [],
   "source": [
    "sb.pairplot(data)"
   ]
  },
  {
   "cell_type": "markdown",
   "metadata": {
    "slideshow": {
     "slide_type": "slide"
    }
   },
   "source": [
    "# Data visualization"
   ]
  },
  {
   "cell_type": "code",
   "execution_count": null,
   "metadata": {
    "slideshow": {
     "slide_type": "subslide"
    }
   },
   "outputs": [],
   "source": [
    "from pandas.api.types import is_string_dtype\n",
    "\n",
    "fig, axs = plt.subplots(4,3, figsize=(10,10))\n",
    "fig.tight_layout(pad=5) \n",
    "i = 0\n",
    "j = 0\n",
    "\n",
    "\n",
    "for col in data:\n",
    "    print(data[col].dtype)\n",
    "    dtype = data[col].dtype\n",
    "    valcounts = data[col].value_counts()\n",
    "    \n",
    "    if col == \"submitter_id\":\n",
    "        continue\n",
    "    elif is_string_dtype(data[col]):\n",
    "        print(data[col].name, \" is a string type\")\n",
    "        vals = valcounts.values.tolist()\n",
    "        names = valcounts.index.tolist()\n",
    "        \n",
    "        axs[i,j].pie(vals, labels = names)\n",
    "        axs[i,j].set_title(col)\n",
    "        \n",
    "    else:\n",
    "        print(data[col].name, \" is a number\")\n",
    "        axs[i,j].hist(data[col])\n",
    "        axs[i,j].set_title(col)\n",
    "    \n",
    "    \n",
    "    if j < 2:\n",
    "        j += 1\n",
    "    else:\n",
    "        i += 1\n",
    "        j = 0\n",
    "        \n",
    "        \n",
    "\n",
    "plt.show()"
   ]
  },
  {
   "cell_type": "code",
   "execution_count": null,
   "metadata": {
    "slideshow": {
     "slide_type": "slide"
    }
   },
   "outputs": [],
   "source": [
    "import matplotlib.pyplot as plt\n",
    "from sklearn.neighbors import KNeighborsClassifier\n",
    "import pandas as pd\n",
    "import numpy as np\n"
   ]
  }
 ],
 "metadata": {
  "celltoolbar": "Slideshow",
  "kernelspec": {
   "display_name": "Python 3",
   "language": "python",
   "name": "python3"
  },
  "language_info": {
   "codemirror_mode": {
    "name": "ipython",
    "version": 3
   },
   "file_extension": ".py",
   "mimetype": "text/x-python",
   "name": "python",
   "nbconvert_exporter": "python",
   "pygments_lexer": "ipython3",
   "version": "3.7.1"
  }
 },
 "nbformat": 4,
 "nbformat_minor": 2
}
